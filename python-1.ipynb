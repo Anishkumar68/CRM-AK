{
 "cells": [
  {
   "cell_type": "code",
   "execution_count": null,
   "metadata": {},
   "outputs": [
    {
     "name": "stdout",
     "output_type": "stream",
     "text": [
      "\n",
      "hello\n",
      "world   \n",
      "\n",
      "hello\n",
      "world's\n",
      "hello\n",
      "world's\n"
     ]
    }
   ],
   "source": [
    "a = \"\"\"\n",
    "hello\n",
    "world   \n",
    "\"\"\"\n",
    "print(a)\n",
    "\n",
    "b = \"hello\\nworld's\"\n",
    "print(b)\n",
    "\n",
    "c = 'hello\\nworld\\'s'\n",
    "print(c)"
   ]
  },
  {
   "cell_type": "code",
   "execution_count": 11,
   "metadata": {},
   "outputs": [
    {
     "name": "stdout",
     "output_type": "stream",
     "text": [
      "anish'kumar\n",
      "a\n",
      "n\n",
      "i\n",
      "s\n",
      "h\n"
     ]
    }
   ],
   "source": [
    "name = \"anish\\'kumar\"\n",
    "print(name)\n",
    "print(name[0])\n",
    "print(name[1])\n",
    "print(name[2])   \n",
    "print(name[3])\n",
    "print(name[4])"
   ]
  },
  {
   "cell_type": "code",
   "execution_count": 13,
   "metadata": {},
   "outputs": [
    {
     "data": {
      "text/plain": [
       "['anish', 'kumar']"
      ]
     },
     "execution_count": 13,
     "metadata": {},
     "output_type": "execute_result"
    }
   ],
   "source": [
    "name.split()\n",
    "name.split(\"\\'\", maxsplit=2)\n"
   ]
  },
  {
   "cell_type": "code",
   "execution_count": 22,
   "metadata": {},
   "outputs": [
    {
     "data": {
      "text/plain": [
       "'ramu'"
      ]
     },
     "execution_count": 22,
     "metadata": {},
     "output_type": "execute_result"
    }
   ],
   "source": [
    "name[-1:-5:-1]\n",
    "\n",
    "\n"
   ]
  },
  {
   "cell_type": "code",
   "execution_count": 24,
   "metadata": {},
   "outputs": [
    {
     "name": "stdout",
     "output_type": "stream",
     "text": [
      "For only 49.00 dollars!\n"
     ]
    }
   ],
   "source": [
    "txt = \"For only {price:.2f} dollars!\"\n",
    "print(txt.format(price = 49))"
   ]
  },
  {
   "cell_type": "code",
   "execution_count": 3,
   "metadata": {},
   "outputs": [
    {
     "name": "stdout",
     "output_type": "stream",
     "text": [
      "you entered a string anish\n"
     ]
    }
   ],
   "source": [
    "\n",
    "\n",
    "price = input(\"enter your price: \")\n",
    "\n",
    "\n",
    "if price.isdigit():\n",
    "    print(f'Price is {price:.2f}')\n",
    "elif isinstance(price, str):\n",
    "    print(f'you entered a string {price}')\n",
    "else:\n",
    "    print('invalid input')\n",
    "\n",
    "\n",
    "\n",
    "\n"
   ]
  },
  {
   "cell_type": "code",
   "execution_count": 15,
   "metadata": {},
   "outputs": [
    {
     "name": "stdout",
     "output_type": "stream",
     "text": [
      "[1, 2, 3, 4, 5, 6, 7, 8, 9, 10] (1, 2, 3, 4, 5, 6, 7, 8, 9, 10)\n",
      "[10, 2, 3, 4, 5, 6, 7, 8, 9, 10] (1, 2, 3, 4, 5, 6, 7, 8, 9, 10) \n",
      "\n",
      "[10, 2, 3, 4, 5, 6, 7, 8, 9, 0] (1, 2, 3, 4, 5, 6, 7, 8, 9, 10) \n",
      "\n",
      "[10, 2, 3, 4, 5, 6, 7, 8, 9, 0] (1, 2, 3, 4, 5, 6, 7, 8, 9, 10, 11)\n"
     ]
    }
   ],
   "source": [
    "\n",
    "list = [1,2,3,4,5,6,7,8,9,10]\n",
    "tuple = (1,2,3,4,5,6,7,8,9,10)\n",
    "\n",
    "print(list, tuple)\n",
    "\n",
    "list[0] = 10\n",
    "# tuple[0] = 10\n",
    "\n",
    "print(list, tuple , '\\n')\n",
    "\n",
    "list[9] = 0\n",
    "\n",
    "print(list, tuple,'\\n')\n",
    "\n",
    "tuple = tuple + (11,)\n",
    "\n",
    "print(list, tuple)\n",
    "\n"
   ]
  },
  {
   "cell_type": "code",
   "execution_count": null,
   "metadata": {},
   "outputs": [
    {
     "name": "stdout",
     "output_type": "stream",
     "text": [
      "[1, 2, 3, 4, 5, 6, 7, 9, 10, 11, 12, 13, 14, 15]\n",
      "[]\n"
     ]
    }
   ],
   "source": [
    "#concate a list\n",
    "list = [1,2,3,4,5,6,7,8,9,10]\n",
    "list2 = [11,12,13,14,15]\n",
    "# list3 = list + list2\n",
    "# print(list3)\n",
    "\n",
    "\n",
    "list.extend(list2)\n",
    "# print(list)\n",
    "\n",
    "\n",
    "\n",
    "\n",
    "\n",
    "\n",
    "#concate a tuple\n",
    "tuple = (1,2,3,4,5,6,7,8,9,10)\n",
    "tuple2 = (11,12,13,14,15)\n",
    "# print(tuple + tuple2)\n",
    "\n",
    "\n",
    "# remove an item from a list\n",
    "list.remove(8)\n",
    "# print(list)\n",
    "\n",
    "# pop method in a list\n",
    "list.pop()\n",
    "\n",
    "# clear a list\n",
    "list.clear()\n",
    "# print(list)\n",
    "\n",
    "# del keyword\n",
    "del list    \n",
    "# print(list)\n",
    "\n",
    "\n",
    "\n"
   ]
  },
  {
   "cell_type": "code",
   "execution_count": null,
   "metadata": {},
   "outputs": [],
   "source": []
  }
 ],
 "metadata": {
  "kernelspec": {
   "display_name": ".venv",
   "language": "python",
   "name": "python3"
  },
  "language_info": {
   "codemirror_mode": {
    "name": "ipython",
    "version": 3
   },
   "file_extension": ".py",
   "mimetype": "text/x-python",
   "name": "python",
   "nbconvert_exporter": "python",
   "pygments_lexer": "ipython3",
   "version": "3.12.6"
  }
 },
 "nbformat": 4,
 "nbformat_minor": 2
}
